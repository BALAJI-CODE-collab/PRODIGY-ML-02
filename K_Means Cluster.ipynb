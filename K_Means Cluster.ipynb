# Code
import pandas as pd
import numpy as np
import matplotlib.pyplot as plt
import seaborn as sns
from sklearn.cluster import KMeans
from sklearn.preprocessing import StandardScaler
from sklearn.metrics import silhouette_score

# Markdown
# Simulate a dataset (human-generated)
# Code
data = {
    'Age': [19, 21, 20, 23, 31, 22, 35, 40, 52, 23, 25, 24, 33, 45, 51],
    'Annual Income (k$)': [15, 16, 17, 20, 22, 24, 27, 30, 31, 35, 36, 40, 50, 55, 60],
    'Spending Score (1-100)': [39, 81, 6, 77, 40, 76, 94, 3, 14, 73, 13, 82, 15, 16, 85]
}
df = pd.DataFrame(data)

# Markdown
# Explore the dataset
# Code
print(df.head())
print(df.info())

# Markdown
# Select features for clustering
# Code
features = ['Age', 'Annual Income (k$)', 'Spending Score (1-100)']
data = df[features]

# Markdown
# Handle missing values (if any)
# Code
data = data.dropna()

# Markdown
# Standardize the data
# Code
scaler = StandardScaler()
data_scaled = scaler.fit_transform(data)

# Markdown
# Find the optimal number of clusters using the Elbow method
# Code
wcss = []  # Within-cluster sum of squares
for i in range(1, 11):
    kmeans = KMeans(n_clusters=i, init='k-means++', random_state=42)
    kmeans.fit(data_scaled)
    wcss.append(kmeans.inertia_)

# Markdown
# Plot the Elbow method result
# Code
plt.figure(figsize=(8, 5))
plt.plot(range(1, 11), wcss, marker='o', linestyle='--')
plt.title('Elbow Method')
plt.xlabel('Number of clusters')
plt.ylabel('WCSS')
plt.show()

# Markdown
# Choose optimal clusters (e.g., k=5 based on the elbow plot)
# Code
k = 5
kmeans = KMeans(n_clusters=k, init='k-means++', random_state=42)
kmeans.fit(data_scaled)
clusters = kmeans.labels_

# Markdown
# Add the cluster labels to the original data
# Code
df['Cluster'] = clusters

# Markdown
# Analyze the clusters
# Code
print(df.groupby('Cluster').mean())

# Markdown
# Visualize the clusters (2D plot using two features)
# Code
sns.scatterplot(
    x=df['Annual Income (k$)'],
    y=df['Spending Score (1-100)'],
    hue=df['Cluster'],
    palette='viridis',
    s=100
)
plt.title('Customer Segments')
plt.xlabel('Annual Income (k$)')
plt.ylabel('Spending Score (1-100)')
plt.legend()
plt.show()

# Markdown
# Calculate silhouette score
# Code
sil_score = silhouette_score(data_scaled, clusters)
print(f"Silhouette Score: {sil_score:.2f}")
